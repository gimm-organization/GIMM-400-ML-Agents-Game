{
  "nbformat": 4,
  "nbformat_minor": 0,
  "metadata": {
    "colab": {
      "name": "GroupJupyterNotebook.ipynb",
      "version": "0.3.2",
      "provenance": [],
      "include_colab_link": true
    },
    "kernelspec": {
      "name": "python3",
      "display_name": "Python 3"
    }
  },
  "cells": [
    {
      "cell_type": "markdown",
      "metadata": {
        "id": "view-in-github",
        "colab_type": "text"
      },
      "source": [
        "<a href=\"https://colab.research.google.com/github/gimm-organization/GIMM-400-ML-Agents-Game/blob/master/GroupJupyterNotebook.ipynb\" target=\"_parent\"><img src=\"https://colab.research.google.com/assets/colab-badge.svg\" alt=\"Open In Colab\"/></a>"
      ]
    },
    {
      "cell_type": "code",
      "metadata": {
        "id": "z3ruXc4uFkIn",
        "colab_type": "code",
        "colab": {
          "base_uri": "https://localhost:8080/",
          "height": 35
        },
        "outputId": "0fb1e17f-f75b-47c4-c729-d766a560bd0d"
      },
      "source": [
        "Proof = (\"This is Google Colab Working with JupyterNotebook!\")\n",
        "\n",
        "def Proving_Function(Proof):\n",
        "  \n",
        "  import string\n",
        "\n",
        "  print(Proof)\n",
        "  \n",
        "Proving_Function(Proof)"
      ],
      "execution_count": 1,
      "outputs": [
        {
          "output_type": "stream",
          "text": [
            "This is Google Colab Working with JupyterNotebook!\n"
          ],
          "name": "stdout"
        }
      ]
    },
    {
      "cell_type": "code",
      "metadata": {
        "id": "tzCeNjJEFzb2",
        "colab_type": "code",
        "colab": {
          "base_uri": "https://localhost:8080/",
          "height": 35
        },
        "outputId": "7ea0c449-069f-4598-bf1b-12f2171bd19a"
      },
      "source": [
        "def Team_Function(Member):\n",
        "  \n",
        "  import string\n",
        "  \n",
        "member1 = \"AndrewMorgan\"\n",
        "  \n",
        "member2 = \"Eli Weston\"\n",
        "  \n",
        "member3 = \"Whitney Freeman\"\n",
        "\n",
        "Member = \"The Members of Team Skynet are {}, {}, and {}.\".format(member1, member2, member3)\n",
        "  \n",
        "Proving_Function(Member)"
      ],
      "execution_count": 9,
      "outputs": [
        {
          "output_type": "stream",
          "text": [
            "The Members of Team Skynet are AndrewMorgan, Eli Weston, and Whitney Freeman.\n"
          ],
          "name": "stdout"
        }
      ]
    }
  ]
}